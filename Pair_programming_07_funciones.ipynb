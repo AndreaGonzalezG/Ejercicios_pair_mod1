{
 "cells": [
  {
   "cell_type": "markdown",
   "metadata": {},
   "source": [
    "## EJERCICIOS"
   ]
  },
  {
   "cell_type": "markdown",
   "metadata": {},
   "source": [
    "\n",
    "1. Calcular el área de un círculo.\n",
    "Descripción: Crea una función llamada calcular_area_circulo que tome el radio como parámetro y devuelva el área del círculo.\n",
    "NOTA: Os dejamos aquí un link para recordar comose calculaba el área de un círculo."
   ]
  },
  {
   "cell_type": "code",
   "execution_count": 1,
   "metadata": {},
   "outputs": [
    {
     "name": "stdout",
     "output_type": "stream",
     "text": [
      "El area del circulo es:'6361.74'\n"
     ]
    }
   ],
   "source": [
    "# area= pi* radio**2\n",
    "\n",
    "def calcular_area_circulo (radio):\n",
    "    pi=3.1416\n",
    "    area= pi* radio**2\n",
    "    return area\n",
    "\n",
    "radio1= 45\n",
    "area_circulo= calcular_area_circulo (radio1)\n",
    "\n",
    "print(f\"El area del circulo es:'{area_circulo}'\")"
   ]
  },
  {
   "cell_type": "markdown",
   "metadata": {},
   "source": [
    "2. Contar la cantidad de caracteres en una cadena.\n",
    "Descripción: Crea una función llamada contar_caracteres que tome una cadena como parámetro y devuelva la cantidad de caracteres que contiene."
   ]
  },
  {
   "cell_type": "code",
   "execution_count": 4,
   "metadata": {},
   "outputs": [
    {
     "name": "stdout",
     "output_type": "stream",
     "text": [
      " Cantidad de caracteres en el texto: 12\n"
     ]
    }
   ],
   "source": [
    "def contar_caracteres(cadena):\n",
    "    contador=0\n",
    "\n",
    "    for caracteres in cadena:\n",
    "        contador +=1\n",
    "\n",
    "    return contador\n",
    "\n",
    "cadena_texto= input('Escribe un texto ')\n",
    "\n",
    "contador_letras= contar_caracteres(cadena_texto)\n",
    "\n",
    "print (' Cantidad de caracteres en el texto:', contador_letras)"
   ]
  },
  {
   "cell_type": "markdown",
   "metadata": {},
   "source": [
    "3. Determinar si una cadena es un palíndromo.\n",
    "\n",
    "Descripción: Crea una función llamada es_palindromo que tome una cadena como parámetro y devuelva True si es un palíndromo, o False si no lo es.\n",
    "¿Qué es un palíndromo?."
   ]
  },
  {
   "cell_type": "code",
   "execution_count": 9,
   "metadata": {},
   "outputs": [
    {
     "name": "stdout",
     "output_type": "stream",
     "text": [
      "['hoja']\n",
      "Es \"hoja\" un palindromo \"True\"\n"
     ]
    }
   ],
   "source": [
    "# palindromo= secuencia que se lee igual  de atras hacia adelante \n",
    "\n",
    "def es_palindromo (cadena_palabras):\n",
    "\n",
    "    lista_palabra=cadena_palabras.split()\n",
    "    print (lista_palabra)\n",
    "\n",
    "    for palabra in lista_palabra:\n",
    "        if palabra == lista_palabra.reverse():\n",
    "            print ()\n",
    "            \n",
    "            True\n",
    "        else:\n",
    "            False \n",
    "    return True or False\n",
    "\n",
    "palabra= 'hoja'\n",
    "\n",
    "palindromo= es_palindromo(palabra)\n",
    "\n",
    "print(f'Es \"{palabra}\" un palindromo \"{palindromo}\"')"
   ]
  },
  {
   "cell_type": "code",
   "execution_count": 18,
   "metadata": {},
   "outputs": [
    {
     "name": "stdout",
     "output_type": "stream",
     "text": [
      "Es 'Anita lava la tina' un palindromo: 'True'\n"
     ]
    }
   ],
   "source": [
    "def es_palindromo (cadena_palabras):\n",
    "\n",
    "    # Eliminar espacios y convertir a minúsculas\n",
    "    cadena_palabras = cadena_palabras.replace(\" \", \"\").lower()\n",
    "    # Comparar la cadena con su inversa\n",
    "    return cadena_palabras == cadena_palabras[::-1]\n",
    "    \n",
    "\n",
    "cadena1= \"Anita lava la tina\"\n",
    "resultado_palindromo= es_palindromo(cadena1)\n",
    "print(f\"Es '{cadena1}' un palindromo: '{resultado_palindromo}'\")"
   ]
  },
  {
   "cell_type": "code",
   "execution_count": 20,
   "metadata": {},
   "outputs": [
    {
     "name": "stdout",
     "output_type": "stream",
     "text": [
      "La cadena 'No me ha dado' es un palíndromo: False\n"
     ]
    }
   ],
   "source": [
    "def es_palindromo(cadena):\n",
    "    # Eliminar espacios y convertir a minúsculas\n",
    "    cadena = cadena.replace(\" \", \"\").lower()\n",
    "    # Comparar la cadena con su inversa\n",
    "    return cadena == cadena[::-1]\n",
    "\n",
    "# Ejemplo de uso\n",
    "cadena = \"No me ha dado\"\n",
    "resultado = es_palindromo(cadena)\n",
    "print(f\"La cadena '{cadena}' es un palíndromo: {resultado}\")"
   ]
  },
  {
   "cell_type": "markdown",
   "metadata": {},
   "source": [
    "4. Calcular el promedio de una lista de números.\n",
    "Descripción: Crea una función llamada calcular_promedio que tome una lista de números como parámetro y devuelva el promedio de todos sus elementos."
   ]
  },
  {
   "cell_type": "code",
   "execution_count": 13,
   "metadata": {},
   "outputs": [
    {
     "name": "stdout",
     "output_type": "stream",
     "text": [
      " El resultado del promedio es: 5.5\n"
     ]
    }
   ],
   "source": [
    "def calcular_promedio (lista_numeros):\n",
    "\n",
    "    if len(lista_numeros) == 0:\n",
    "         return None\n",
    "    \n",
    "    suma_numeros=sum(lista_numeros)\n",
    "    cantidad_numeros= len(lista_numeros)\n",
    "    promedio= suma_numeros/cantidad_numeros\n",
    "\n",
    "    return promedio\n",
    "\n",
    "lista_numeros= [1,2,3,4,5,6,7,8,9,10]\n",
    "promedio1= calcular_promedio(lista_numeros)\n",
    "\n",
    "print (' El resultado del promedio es:', promedio1)"
   ]
  },
  {
   "cell_type": "markdown",
   "metadata": {},
   "source": [
    "5. Calcular el interés compuesto.\n",
    "\n",
    "Descripción: Crea una función llamada calcular_interes_compuesto que tome el capital inicial, la tasa de interés y el número de períodos como parámetros y devuelva el beneficio final después del interés compuesto."
   ]
  },
  {
   "cell_type": "code",
   "execution_count": null,
   "metadata": {},
   "outputs": [],
   "source": [
    "# interes compuesto= capital_inicial * (1 + tasa_interes) ** periodos\n",
    "\n",
    "def calcular_interes_compuesto(capital, tasa, periodos):\n",
    "    interes_compuesto= capital* (1+tasa) ** periodos\n",
    "    beneficio_final= capital- interes_compuesto\n",
    "\n",
    "    return beneficio_final\n",
    "\n",
    "capitalinicial= 2000\n",
    "tasa1= 0.10\n",
    "periodos1=3\n",
    "\n",
    "resultado_beneficio_"
   ]
  }
 ],
 "metadata": {
  "kernelspec": {
   "display_name": "base",
   "language": "python",
   "name": "python3"
  },
  "language_info": {
   "codemirror_mode": {
    "name": "ipython",
    "version": 3
   },
   "file_extension": ".py",
   "mimetype": "text/x-python",
   "name": "python",
   "nbconvert_exporter": "python",
   "pygments_lexer": "ipython3",
   "version": "3.12.4"
  }
 },
 "nbformat": 4,
 "nbformat_minor": 2
}

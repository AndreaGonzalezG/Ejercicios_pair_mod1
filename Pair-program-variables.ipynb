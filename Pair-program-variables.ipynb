{
 "cells": [
  {
   "cell_type": "code",
   "execution_count": 4,
   "metadata": {},
   "outputs": [
    {
     "name": "stdout",
     "output_type": "stream",
     "text": [
      "0.7555555555555555\n"
     ]
    }
   ],
   "source": [
    "altura1= 34\n",
    "altura2= 45\n",
    "division= altura1/altura2\n",
    "print (division)"
   ]
  },
  {
   "cell_type": "code",
   "execution_count": 5,
   "metadata": {},
   "outputs": [
    {
     "name": "stdout",
     "output_type": "stream",
     "text": [
      "0.8\n"
     ]
    }
   ],
   "source": [
    "decimal= round (division,1)\n",
    "print (decimal)"
   ]
  },
  {
   "cell_type": "code",
   "execution_count": 27,
   "metadata": {},
   "outputs": [
    {
     "name": "stdout",
     "output_type": "stream",
     "text": [
      "tu nombre es: Andrea.\n"
     ]
    }
   ],
   "source": [
    "nombre= input( 'cual es tu nombre: ')\n",
    "print  (f\"tu nombre es: {nombre}.\")\n"
   ]
  },
  {
   "cell_type": "code",
   "execution_count": 30,
   "metadata": {},
   "outputs": [
    {
     "name": "stdout",
     "output_type": "stream",
     "text": [
      "tu apellido es: Gonzalez\n"
     ]
    }
   ],
   "source": [
    "apellido =input( 'cual es tu apellido: ')\n",
    "print (f\"tu apellido es: {apellido}\")"
   ]
  },
  {
   "cell_type": "code",
   "execution_count": 8,
   "metadata": {},
   "outputs": [
    {
     "name": "stdout",
     "output_type": "stream",
     "text": [
      "andrea gonzalez\n"
     ]
    }
   ],
   "source": [
    "nombre_completo= nombre+ ' ' +apellido\n",
    "print (nombre_completo)"
   ]
  },
  {
   "cell_type": "code",
   "execution_count": 9,
   "metadata": {},
   "outputs": [
    {
     "name": "stdout",
     "output_type": "stream",
     "text": [
      "ANDREA GONZALEZ\n"
     ]
    }
   ],
   "source": [
    "mayuscula= nombre_completo.upper()\n",
    "print (mayuscula)"
   ]
  },
  {
   "cell_type": "code",
   "execution_count": 10,
   "metadata": {},
   "outputs": [
    {
     "name": "stdout",
     "output_type": "stream",
     "text": [
      "andrea gonzalez\n"
     ]
    }
   ],
   "source": [
    "minuscula= nombre_completo.lower()\n",
    "print(minuscula)"
   ]
  },
  {
   "cell_type": "code",
   "execution_count": 11,
   "metadata": {},
   "outputs": [
    {
     "name": "stdout",
     "output_type": "stream",
     "text": [
      "Andrea Gonzalez\n"
     ]
    }
   ],
   "source": [
    "Mayusculaprimero = nombre_completo. title() \n",
    "print (Mayusculaprimero)"
   ]
  },
  {
   "cell_type": "code",
   "execution_count": 12,
   "metadata": {},
   "outputs": [
    {
     "name": "stdout",
     "output_type": "stream",
     "text": [
      "Andrea gonzalez\n"
     ]
    }
   ],
   "source": [
    "mayusculasegundo = nombre_completo.capitalize()\n",
    "print (mayusculasegundo)"
   ]
  },
  {
   "cell_type": "code",
   "execution_count": 32,
   "metadata": {},
   "outputs": [
    {
     "name": "stdout",
     "output_type": "stream",
     "text": [
      "Frase favorita: Mañana sera bonito\n"
     ]
    }
   ],
   "source": [
    "frase =  input( 'escribe tu frase favorita: ')\n",
    "print (f'Frase favorita: {frase}')\n"
   ]
  },
  {
   "cell_type": "code",
   "execution_count": 3,
   "metadata": {},
   "outputs": [
    {
     "name": "stdout",
     "output_type": "stream",
     "text": [
      "escribe una vocal: a\n"
     ]
    }
   ],
   "source": [
    "vocal = input('escribe una vocal: ')\n",
    "print (f'escribe una vocal: {vocal}')"
   ]
  },
  {
   "cell_type": "code",
   "execution_count": 4,
   "metadata": {},
   "outputs": [
    {
     "data": {
      "text/plain": [
       "'A'"
      ]
     },
     "execution_count": 4,
     "metadata": {},
     "output_type": "execute_result"
    }
   ],
   "source": [
    "mayusculavocal= vocal.upper ()\n",
    "mayusculavocal"
   ]
  },
  {
   "cell_type": "code",
   "execution_count": null,
   "metadata": {},
   "outputs": [],
   "source": []
  },
  {
   "cell_type": "code",
   "execution_count": 28,
   "metadata": {},
   "outputs": [
    {
     "name": "stdout",
     "output_type": "stream",
     "text": [
      "cereal, leche, yogurt\n",
      "['cereal,', 'leche,', 'yogurt']\n",
      "cereal,\n",
      "leche,\n",
      "yogurt\n"
     ]
    }
   ],
   "source": [
    "# Lista_separadas= Lista_compras.split()\n",
    "# print (Lista_separadas)\n",
    "Lista_compras= input('ingrese lista de compras separada por comas')\n",
    "print (Lista_compras)\n",
    "\n",
    "lista_dividada = Lista_compras.split (\" \")\n",
    "print(lista_dividada)\n",
    "\n",
    "print((\"\\n\").join(lista_dividada))\n",
    "\n"
   ]
  },
  {
   "cell_type": "code",
   "execution_count": 25,
   "metadata": {},
   "outputs": [
    {
     "name": "stdout",
     "output_type": "stream",
     "text": [
      "leche, arroz, carne\n",
      "['leche,', 'arroz,', 'carne']\n"
     ]
    }
   ],
   "source": [
    "Lista_compras= input('ingrese lista de compras separada por comas')\n",
    "print (Lista_compras)\n",
    "lista_dividada = Lista_compras.split (\" \")\n",
    "print(lista_dividada)"
   ]
  },
  {
   "cell_type": "code",
   "execution_count": 27,
   "metadata": {},
   "outputs": [
    {
     "name": "stdout",
     "output_type": "stream",
     "text": [
      "leche,\n",
      "arroz,\n",
      "carne\n"
     ]
    },
    {
     "data": {
      "text/plain": [
       "['leche,', 'arroz,', 'carne']"
      ]
     },
     "execution_count": 27,
     "metadata": {},
     "output_type": "execute_result"
    }
   ],
   "source": [
    "# Resultado logrado \n",
    "\n",
    "print(\"\\n\".join(lista_dividada))\n",
    "lista_dividada"
   ]
  }
 ],
 "metadata": {
  "kernelspec": {
   "display_name": "base",
   "language": "python",
   "name": "python3"
  },
  "language_info": {
   "codemirror_mode": {
    "name": "ipython",
    "version": 3
   },
   "file_extension": ".py",
   "mimetype": "text/x-python",
   "name": "python",
   "nbconvert_exporter": "python",
   "pygments_lexer": "ipython3",
   "version": "3.12.4"
  }
 },
 "nbformat": 4,
 "nbformat_minor": 2
}
